{
 "cells": [
  {
   "cell_type": "markdown",
   "metadata": {},
   "source": [
    "# Ques-1"
   ]
  },
  {
   "cell_type": "code",
   "execution_count": 13,
   "metadata": {},
   "outputs": [
    {
     "name": "stdout",
     "output_type": "stream",
     "text": [
      "Nitika garg\n",
      "b'nitika garg'\n",
      "True\n",
      "True\n",
      "False\n",
      "['nitika', 'garg']\n",
      "Nitika Garg\n"
     ]
    }
   ],
   "source": [
    "name=\"nitika garg\"\n",
    "\n",
    "print(name.capitalize())\n",
    "print(name.encode())\n",
    "print(name.islower())\n",
    "print(name.isprintable())\n",
    "print(name.istitle())\n",
    "print(name.split())\n",
    "print(name.title())"
   ]
  },
  {
   "cell_type": "markdown",
   "metadata": {},
   "source": [
    "# Ques-2"
   ]
  },
  {
   "cell_type": "code",
   "execution_count": 21,
   "metadata": {},
   "outputs": [
    {
     "name": "stdout",
     "output_type": "stream",
     "text": [
      "['Bill', 69, 23.6, 'anni', 'jack', 78, 56.34, 'ray']\n",
      "['Bill', 69, 'anni', 'jack', 78, 56.34, 'ray']\n",
      "['Bill', 69, 'anni', 'jack', 78, 56.34, 'ray']\n",
      "['ray', 56.34, 78, 'jack', 'anni', 69, 'Bill']\n",
      "['ray', 56.34, 'jack', 'anni', 69, 'Bill']\n"
     ]
    }
   ],
   "source": [
    "l1=['Bill',69,23.6,'anni','jack',78,56.34]\n",
    "l1.append('ray')\n",
    "print(l1)\n",
    "l1.pop(2)\n",
    "print(l1)\n",
    "print(l1.copy())\n",
    "l1.reverse()\n",
    "print(l1)\n",
    "l1.remove(78)\n",
    "print(l1)"
   ]
  },
  {
   "cell_type": "markdown",
   "metadata": {},
   "source": [
    "# Ques-3"
   ]
  },
  {
   "cell_type": "code",
   "execution_count": 27,
   "metadata": {},
   "outputs": [
    {
     "name": "stdout",
     "output_type": "stream",
     "text": [
      "Paul Wesley\n",
      "dict_keys(['Name', 'Age', 'Salary', 'DOB'])\n",
      "{'Name': 'Paul Wesley', 'Age': 40, 'Salary': 90000, 'DOB': -1986}\n",
      "{'Name': 'Paul Wesley', 'Age': 40, 'Salary': 90000, 'DOB': -1986, 'Profession': 'Actor'}\n",
      "dict_items([('Name', 'Paul Wesley'), ('Age', 40), ('Salary', 90000), ('DOB', -1986), ('Profession', 'Actor')])\n",
      "{'Name': 'Paul Wesley', 'Age': 40, 'Salary': 90000, 'DOB': -1986}\n"
     ]
    }
   ],
   "source": [
    "dict={'Name':'Paul Wesley','Age':40,'Salary':90000,'DOB':12-7-1991}\n",
    "print(dict.get('Name'))\n",
    "print(dict.keys())\n",
    "print(dict.copy())\n",
    "dict.update({'Profession':'Actor'})\n",
    "print(dict)\n",
    "print(dict.items())\n",
    "dict.popitem()\n",
    "print(dict)"
   ]
  },
  {
   "cell_type": "code",
   "execution_count": null,
   "metadata": {},
   "outputs": [],
   "source": []
  }
 ],
 "metadata": {
  "kernelspec": {
   "display_name": "Python 3",
   "language": "python",
   "name": "python3"
  },
  "language_info": {
   "codemirror_mode": {
    "name": "ipython",
    "version": 3
   },
   "file_extension": ".py",
   "mimetype": "text/x-python",
   "name": "python",
   "nbconvert_exporter": "python",
   "pygments_lexer": "ipython3",
   "version": "3.6.5"
  }
 },
 "nbformat": 4,
 "nbformat_minor": 2
}
